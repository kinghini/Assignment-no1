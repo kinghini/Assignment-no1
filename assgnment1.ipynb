{
 "cells": [
  {
   "cell_type": "raw",
   "id": "a06faac7",
   "metadata": {},
   "source": [
    "\n",
    "\n",
    ".1. In the below elements which of them are values or an expression? eg:- values can be\n",
    "integer or string and expressions will be mathematical operators.\n",
    "*\n",
    "&#39;hello&#39;\n",
    "-87.8\n",
    "-\n",
    "/\n",
    "+\n",
    "6\n",
    "\n",
    "2. What is the difference between string and variable?\n",
    "\n",
    "\n",
    "\n",
    "\n",
    "4. What is an expression made up of? What do all expressions do?\n",
    "5. This assignment statements, like spam = 10. What is the difference between an\n",
    "expression and a statement?\n",
    "6. After running the following code, what does the variable bacon contain?\n",
    "bacon = 22\n",
    "bacon + 1\n",
    "\n",
    "7. What should the values of the following two terms be?\n",
    "&#39;spam&#39;\n",
    "\n",
    "\n"
   ]
  },
  {
   "cell_type": "raw",
   "id": "7a5e3058",
   "metadata": {},
   "source": [
    "1. In the below elements which of them are values or an expression? eg:- values can be\n",
    "integer or string and expressions will be mathematical operators.\n",
    "*\n",
    "&#39;hello&#39;\n",
    "-87.8\n",
    "-\n",
    "/\n",
    "+\n",
    "6\n",
    "type(*)"
   ]
  },
  {
   "cell_type": "raw",
   "id": "b0fba57c",
   "metadata": {},
   "source": [
    "##answer\n",
    "expressions\n",
    "*\n",
    "-\n",
    "/\n",
    "+\n",
    "values\n",
    "\"hello\",6,-87.6\n"
   ]
  },
  {
   "cell_type": "code",
   "execution_count": 7,
   "id": "edba32ef",
   "metadata": {},
   "outputs": [
    {
     "data": {
      "text/plain": [
       "str"
      ]
     },
     "execution_count": 7,
     "metadata": {},
     "output_type": "execute_result"
    }
   ],
   "source": [
    "type('hello')"
   ]
  },
  {
   "cell_type": "code",
   "execution_count": 8,
   "id": "b3adac1a",
   "metadata": {},
   "outputs": [
    {
     "data": {
      "text/plain": [
       "int"
      ]
     },
     "execution_count": 8,
     "metadata": {},
     "output_type": "execute_result"
    }
   ],
   "source": [
    "type(6)"
   ]
  },
  {
   "cell_type": "code",
   "execution_count": 9,
   "id": "32fbec53",
   "metadata": {},
   "outputs": [
    {
     "data": {
      "text/plain": [
       "str"
      ]
     },
     "execution_count": 9,
     "metadata": {},
     "output_type": "execute_result"
    }
   ],
   "source": [
    "type('-87.8')"
   ]
  },
  {
   "cell_type": "raw",
   "id": "e3e9e59e",
   "metadata": {},
   "source": [
    "Question 2: What is the difference between string and variable?\n",
    "       \n",
    "       String:It is character or different characters enclosed with single or double quotation and string contain integers alphabets\n",
    "            eg:\"hai\",\"htt234\",'5676'\n",
    "        Variable:Variables are used for temperory storage of data they can be used for entering,storing,manipulating,executing different values,it is case sensitive.Any alphabets with different matematical operators can be used as variable.when we are entering variable values using input method by default  it will be taken as string\n",
    "                eg:a,*q,abd,MK"
   ]
  },
  {
   "cell_type": "code",
   "execution_count": 3,
   "id": "af040e13",
   "metadata": {},
   "outputs": [
    {
     "name": "stdout",
     "output_type": "stream",
     "text": [
      "enter value of  a567\n"
     ]
    }
   ],
   "source": [
    "a=input('enter value of  a')"
   ]
  },
  {
   "cell_type": "code",
   "execution_count": 4,
   "id": "1e6f9d41",
   "metadata": {},
   "outputs": [
    {
     "data": {
      "text/plain": [
       "str"
      ]
     },
     "execution_count": 4,
     "metadata": {},
     "output_type": "execute_result"
    }
   ],
   "source": [
    "type(a)"
   ]
  },
  {
   "cell_type": "raw",
   "id": "a776fea2",
   "metadata": {},
   "source": [
    "3. Describe three different data types.\n",
    "      Integer data type:This is integer type of data,denoted by int eg:89,67\n",
    "       floating  point data types:here floating points  are used as data eg:67.09\n",
    "       Strings:Its character or combination of characters  enclosed in single or double quotation mark\n",
    "       eg:'bn', 'g'\n",
    "    "
   ]
  },
  {
   "cell_type": "raw",
   "id": "23b2da75",
   "metadata": {},
   "source": [
    "4. What is an expression made up of? What do all expressions do?\n",
    "   An expression is made up of with operands and operators,they perform the required operations and produce some other value as output.There are different types of expressions\n",
    "   1.Constant expression: The output is constant value \n",
    "     eg:c=17+678\n",
    "     output:695\n",
    "    2.Arithmetic expressions:Here arithmetical operators  like addition substraction are used\n",
    "      eg:a=10,b=50\n",
    "      [a+b, a-b, a*b, a/b]\n",
    "      Output\n",
    "      [60, -40, 500, 0.2]\n",
    "    \n"
   ]
  },
  {
   "cell_type": "raw",
   "id": "8218cc0b",
   "metadata": {},
   "source": [
    "5. This assignment statements, like spam = 10. What is the difference between an expression and a statement?\n",
    "      Statement is an action or command ,Eg:print('nimmy'),\n",
    "      Expression is combination of variables and operations, it has some  output value\n"
   ]
  },
  {
   "cell_type": "raw",
   "id": "f8aaed86",
   "metadata": {},
   "source": [
    "6. After running the following code, what does the variable bacon contain?\n",
    "bacon = 22\n",
    "bacon + 1"
   ]
  },
  {
   "cell_type": "code",
   "execution_count": 3,
   "id": "5cf5fcfe",
   "metadata": {},
   "outputs": [
    {
     "data": {
      "text/plain": [
       "22"
      ]
     },
     "execution_count": 3,
     "metadata": {},
     "output_type": "execute_result"
    }
   ],
   "source": [
    "bacon=22\n",
    "bacon+1\n",
    "bacon"
   ]
  },
  {
   "cell_type": "markdown",
   "id": "d4356c49",
   "metadata": {},
   "source": [
    "7. What should the values of the following two terms be?\n",
    "'spam' + 'spamspam'\n",
    "'spam' * 3\n"
   ]
  },
  {
   "cell_type": "code",
   "execution_count": 4,
   "id": "b876ef83",
   "metadata": {},
   "outputs": [
    {
     "data": {
      "text/plain": [
       "'spamspamspam'"
      ]
     },
     "execution_count": 4,
     "metadata": {},
     "output_type": "execute_result"
    }
   ],
   "source": [
    "\n",
    "'spam' + 'spamspam'\n"
   ]
  },
  {
   "cell_type": "raw",
   "id": "811c183a",
   "metadata": {},
   "source": [
    "Here concatination of the two strings 'spam' and 'spamspam' occurs\n"
   ]
  },
  {
   "cell_type": "code",
   "execution_count": 5,
   "id": "492cf6b2",
   "metadata": {},
   "outputs": [
    {
     "data": {
      "text/plain": [
       "'spamspamspam'"
      ]
     },
     "execution_count": 5,
     "metadata": {},
     "output_type": "execute_result"
    }
   ],
   "source": [
    "'spam'*3"
   ]
  },
  {
   "cell_type": "raw",
   "id": "5f9639f5",
   "metadata": {},
   "source": [
    "Here string'spam' is multiplied by 3,'spam 'is 3 times repeately added"
   ]
  },
  {
   "cell_type": "raw",
   "id": "bf2f1581",
   "metadata": {},
   "source": [
    "8. Why is eggs a valid variable name while 100 is invalid?\n",
    "\n",
    "          Variable names are used for temporary storage of data.Alphabets and numericals can be used for storing data,numbers are not used as variables.After performing the required operations value of variable changes when we are using numerical values as variables it is not possible."
   ]
  }
 ],
 "metadata": {
  "kernelspec": {
   "display_name": "Python 3 (ipykernel)",
   "language": "python",
   "name": "python3"
  },
  "language_info": {
   "codemirror_mode": {
    "name": "ipython",
    "version": 3
   },
   "file_extension": ".py",
   "mimetype": "text/x-python",
   "name": "python",
   "nbconvert_exporter": "python",
   "pygments_lexer": "ipython3",
   "version": "3.9.7"
  }
 },
 "nbformat": 4,
 "nbformat_minor": 5
}
